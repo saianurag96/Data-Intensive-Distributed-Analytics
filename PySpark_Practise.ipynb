{
  "nbformat": 4,
  "nbformat_minor": 0,
  "metadata": {
    "colab": {
      "name": "PySpark_Practise.ipynb",
      "provenance": [],
      "collapsed_sections": [
        "UwwLeE4O6W-i",
        "urlhxR3juwok",
        "zdK9isFPvHN5"
      ]
    },
    "kernelspec": {
      "name": "python3",
      "display_name": "Python 3"
    },
    "language_info": {
      "name": "python"
    }
  },
  "cells": [
    {
      "cell_type": "markdown",
      "metadata": {
        "id": "UwwLeE4O6W-i"
      },
      "source": [
        "#Installations and imports"
      ]
    },
    {
      "cell_type": "code",
      "metadata": {
        "id": "voiJLiVyFSj2"
      },
      "source": [
        "!apt-get update -qq > /dev/null\n",
        "!apt-get install openjdk-8-jdk-headless -qq > /dev/null\n",
        "!wget -q https://downloads.apache.org/spark/spark-2.4.8/spark-2.4.8-bin-hadoop2.7.tgz\n",
        "!tar xf spark-2.4.8-bin-hadoop2.7.tgz\n",
        "!pip install -q findspark"
      ],
      "execution_count": 1,
      "outputs": []
    },
    {
      "cell_type": "code",
      "metadata": {
        "id": "5eL834LhFZAq"
      },
      "source": [
        "import os\n",
        "os.environ[\"JAVA_HOME\"] = \"/usr/lib/jvm/java-8-openjdk-amd64\"\n",
        "os.environ[\"SPARK_HOME\"] = \"/content/spark-2.4.8-bin-hadoop2.7\"\n",
        "\n",
        "import findspark\n",
        "findspark.init()\n",
        "\n",
        "#Creating a sparkcontext [Create a spark_conf and pass it to sparkcontext to create sc][This method is followed before spark 2.0 was introdcued. \n",
        "#TO access other contects like hive and sql, we must create separate contexts again] \n",
        "from pyspark import SparkContext, SparkConf\n",
        "\n",
        "spark_conf = SparkConf()\\\n",
        "  .setAppName(\"YourTest\")\\\n",
        "  .setMaster(\"local[*]\")\n",
        "\n",
        "sc = SparkContext.getOrCreate(spark_conf)"
      ],
      "execution_count": 2,
      "outputs": []
    },
    {
      "cell_type": "markdown",
      "metadata": {
        "id": "urlhxR3juwok"
      },
      "source": [
        "# CS 631 Practice"
      ]
    },
    {
      "cell_type": "code",
      "metadata": {
        "id": "GtBqkDJrFeIs"
      },
      "source": [
        "!wget -q https://student.cs.uwaterloo.ca/~cs451/data/ratings_small.csv\n",
        "!wget -q https://student.cs.uwaterloo.ca/~cs451/data/ratings.csv"
      ],
      "execution_count": 3,
      "outputs": []
    },
    {
      "cell_type": "code",
      "metadata": {
        "colab": {
          "base_uri": "https://localhost:8080/"
        },
        "id": "pVU2WlHZFrmN",
        "outputId": "0c32b2bb-fe9d-470c-d651-3ff0b717583f"
      },
      "source": [
        "!ls -lh"
      ],
      "execution_count": 4,
      "outputs": [
        {
          "output_type": "stream",
          "name": "stdout",
          "text": [
            "total 904M\n",
            "-rw-r--r--  1 root root 677M Feb  1  2021 ratings.csv\n",
            "-rw-r--r--  1 root root 2.4M Feb  1  2021 ratings_small.csv\n",
            "drwxr-xr-x  1 root root 4.0K Nov 18 14:36 sample_data\n",
            "drwxr-xr-x 13  501 1000 4.0K May  8  2021 spark-2.4.8-bin-hadoop2.7\n",
            "-rw-r--r--  1 root root 225M May  8  2021 spark-2.4.8-bin-hadoop2.7.tgz\n"
          ]
        }
      ]
    },
    {
      "cell_type": "code",
      "metadata": {
        "colab": {
          "base_uri": "https://localhost:8080/"
        },
        "id": "o4Y7omn_Gaux",
        "outputId": "b7ca258e-bde9-43ea-b43a-23e1c6c24ac6"
      },
      "source": [
        "data =sc.textFile('ratings_small.csv')\n",
        "data.take(10)"
      ],
      "execution_count": 5,
      "outputs": [
        {
          "output_type": "execute_result",
          "data": {
            "text/plain": [
              "['userId,movieId,rating,timestamp',\n",
              " '1,31,2.5,1260759144',\n",
              " '1,1029,3.0,1260759179',\n",
              " '1,1061,3.0,1260759182',\n",
              " '1,1129,2.0,1260759185',\n",
              " '1,1172,4.0,1260759205',\n",
              " '1,1263,2.0,1260759151',\n",
              " '1,1287,2.0,1260759187',\n",
              " '1,1293,2.0,1260759148',\n",
              " '1,1339,3.5,1260759125']"
            ]
          },
          "metadata": {},
          "execution_count": 5
        }
      ]
    },
    {
      "cell_type": "code",
      "metadata": {
        "colab": {
          "base_uri": "https://localhost:8080/"
        },
        "id": "JopUY_1xHgS3",
        "outputId": "ead245c9-4bb3-4ffe-d578-871deec3dbf7"
      },
      "source": [
        "header=data.first()\n",
        "data=data.filter(lambda x: x!=header)\n",
        "data.take(10)"
      ],
      "execution_count": 12,
      "outputs": [
        {
          "output_type": "execute_result",
          "data": {
            "text/plain": [
              "['1,31,2.5,1260759144',\n",
              " '1,1029,3.0,1260759179',\n",
              " '1,1061,3.0,1260759182',\n",
              " '1,1129,2.0,1260759185',\n",
              " '1,1172,4.0,1260759205',\n",
              " '1,1263,2.0,1260759151',\n",
              " '1,1287,2.0,1260759187',\n",
              " '1,1293,2.0,1260759148',\n",
              " '1,1339,3.5,1260759125',\n",
              " '1,1343,2.0,1260759131']"
            ]
          },
          "metadata": {},
          "execution_count": 12
        }
      ]
    },
    {
      "cell_type": "code",
      "metadata": {
        "id": "wjtwgVvyHiEo"
      },
      "source": [
        "rdd1=data.map(lambda x:x.split(\",\")).map(lambda x: (x[1],float(x[2]))).groupByKey()"
      ],
      "execution_count": 16,
      "outputs": []
    },
    {
      "cell_type": "code",
      "metadata": {
        "colab": {
          "base_uri": "https://localhost:8080/"
        },
        "id": "ECKPMtiLIiIE",
        "outputId": "5be01dde-6d3b-4487-aa84-1d378adc28e4"
      },
      "source": [
        "rdd1.map(lambda x: (x[0],sum(x[1])/len(x[1]))).take(10)"
      ],
      "execution_count": 20,
      "outputs": [
        {
          "output_type": "execute_result",
          "data": {
            "text/plain": [
              "[('1129', 3.3125),\n",
              " ('1293', 3.9782608695652173),\n",
              " ('1339', 3.298076923076923),\n",
              " ('1405', 3.032608695652174),\n",
              " ('2105', 3.478723404255319),\n",
              " ('2150', 3.513888888888889),\n",
              " ('2455', 3.393617021276596),\n",
              " ('10', 3.4508196721311477),\n",
              " ('17', 3.9244186046511627),\n",
              " ('50', 4.370646766169155)]"
            ]
          },
          "metadata": {},
          "execution_count": 20
        }
      ]
    },
    {
      "cell_type": "markdown",
      "metadata": {
        "id": "-C9xEvvhJ5dy"
      },
      "source": [
        "groupByKey() works well when the data is less.\n",
        "Use reduceByKey() when there is large data."
      ]
    },
    {
      "cell_type": "code",
      "metadata": {
        "colab": {
          "base_uri": "https://localhost:8080/"
        },
        "id": "qDlv8JnPKBH5",
        "outputId": "a2898cba-b2e7-4a7d-8466-7cff214b89ee"
      },
      "source": [
        "data =sc.textFile('ratings.csv')\n",
        "header=data.first()\n",
        "data=data.filter(lambda x: x!=header)\n",
        "data.take(10)"
      ],
      "execution_count": 21,
      "outputs": [
        {
          "output_type": "execute_result",
          "data": {
            "text/plain": [
              "['1,110,1.0,1425941529',\n",
              " '1,147,4.5,1425942435',\n",
              " '1,858,5.0,1425941523',\n",
              " '1,1221,5.0,1425941546',\n",
              " '1,1246,5.0,1425941556',\n",
              " '1,1968,4.0,1425942148',\n",
              " '1,2762,4.5,1425941300',\n",
              " '1,2918,5.0,1425941593',\n",
              " '1,2959,4.0,1425941601',\n",
              " '1,4226,4.0,1425942228']"
            ]
          },
          "metadata": {},
          "execution_count": 21
        }
      ]
    },
    {
      "cell_type": "code",
      "metadata": {
        "id": "FllxWIrHKI9Y"
      },
      "source": [
        "rdd1=data.map(lambda x:x.split(\",\")).map(lambda x: (x[1],(float(x[2]),1))).reduceByKey(lambda x,y:(x[0]+y[0],x[1]+y[1]))"
      ],
      "execution_count": 24,
      "outputs": []
    },
    {
      "cell_type": "code",
      "metadata": {
        "colab": {
          "base_uri": "https://localhost:8080/"
        },
        "id": "oxTdobyiLdHs",
        "outputId": "71523831-7602-4961-a4d9-a21d25a7bc56"
      },
      "source": [
        "rdd1.take(10)"
      ],
      "execution_count": 25,
      "outputs": [
        {
          "output_type": "execute_result",
          "data": {
            "text/plain": [
              "[('110', (267116.0, 66512)),\n",
              " ('147', (17861.0, 4967)),\n",
              " ('2959', (253944.5, 60024)),\n",
              " ('81834', (44783.0, 11562)),\n",
              " ('628', (47666.0, 12702)),\n",
              " ('1097', (146270.5, 39023)),\n",
              " ('157', (7657.0, 2743)),\n",
              " ('1198', (246807.5, 59693)),\n",
              " ('1201', (76664.0, 18609)),\n",
              " ('3535', (42447.0, 11875))]"
            ]
          },
          "metadata": {},
          "execution_count": 25
        }
      ]
    },
    {
      "cell_type": "code",
      "metadata": {
        "id": "FIA0qu5LL-uV"
      },
      "source": [
        "final_result=rdd1.map(lambda x: (x[0],x[1][0]/x[1][1]))"
      ],
      "execution_count": 26,
      "outputs": []
    },
    {
      "cell_type": "code",
      "metadata": {
        "colab": {
          "base_uri": "https://localhost:8080/"
        },
        "id": "I2df6onGMKtM",
        "outputId": "59e4cf12-5363-4464-a1e7-302fee32affe"
      },
      "source": [
        "final_result.take(10)"
      ],
      "execution_count": 27,
      "outputs": [
        {
          "output_type": "execute_result",
          "data": {
            "text/plain": [
              "[('110', 4.016057252826558),\n",
              " ('147', 3.5959331588483994),\n",
              " ('2959', 4.2307160469145675),\n",
              " ('81834', 3.8732918180245632),\n",
              " ('628', 3.752637379940167),\n",
              " ('1097', 3.748315096225303),\n",
              " ('157', 2.7914691943127963),\n",
              " ('1198', 4.134613773809324),\n",
              " ('1201', 4.119727013810522),\n",
              " ('3535', 3.574484210526316)]"
            ]
          },
          "metadata": {},
          "execution_count": 27
        }
      ]
    },
    {
      "cell_type": "markdown",
      "metadata": {
        "id": "QtfrukCnM3DW"
      },
      "source": [
        "Let us save the contents of this rdd into a txt file\n",
        "\n",
        "The following code will create a folder  named 'rating' and will have many text files. Number of files equals number of partitions spark has made to the main file."
      ]
    },
    {
      "cell_type": "code",
      "metadata": {
        "id": "kuZEKrQKMtC6"
      },
      "source": [
        "final_result.saveAsTextFile('rating')"
      ],
      "execution_count": 28,
      "outputs": []
    },
    {
      "cell_type": "markdown",
      "metadata": {
        "id": "HUgoRI3cNlrl"
      },
      "source": [
        "To produce contents in only one file"
      ]
    },
    {
      "cell_type": "code",
      "metadata": {
        "id": "3y2JGgqkNXE0"
      },
      "source": [
        "final_result.coalesce(1).saveAsTextFile('rating_1')"
      ],
      "execution_count": 30,
      "outputs": []
    },
    {
      "cell_type": "code",
      "metadata": {
        "colab": {
          "base_uri": "https://localhost:8080/"
        },
        "id": "Lhe1xkTLvXEm",
        "outputId": "2be71cde-cb87-4da3-d205-dab3d3e28c02"
      },
      "source": [
        "sc.getConf().getAll()"
      ],
      "execution_count": 5,
      "outputs": [
        {
          "output_type": "execute_result",
          "data": {
            "text/plain": [
              "[('spark.app.name', 'YourTest'),\n",
              " ('spark.rdd.compress', 'True'),\n",
              " ('spark.app.id', 'local-1637887965365'),\n",
              " ('spark.serializer.objectStreamReset', '100'),\n",
              " ('spark.driver.host', '15b8af5da677'),\n",
              " ('spark.master', 'local[*]'),\n",
              " ('spark.driver.port', '46267'),\n",
              " ('spark.executor.id', 'driver'),\n",
              " ('spark.submit.deployMode', 'client'),\n",
              " ('spark.ui.showConsoleProgress', 'true')]"
            ]
          },
          "metadata": {},
          "execution_count": 5
        }
      ]
    },
    {
      "cell_type": "markdown",
      "metadata": {
        "id": "zdK9isFPvHN5"
      },
      "source": [
        "# Udacity Spark Practice\n",
        "\n",
        "In Spark 1.x, three entry points were introduced: **SparkContext, SQLContext and HiveContext**. Since Spark 2.x, a new entry point called **SparkSession**. ONly one is sufficient!\n",
        "\n",
        "If you are using the spark-shell, SparkContext is already available through the variable called sc.\n",
        "\n",
        "Reference: https://towardsdatascience.com/sparksession-vs-sparkcontext-vs-sqlcontext-vs-hivecontext-741d50c9486a"
      ]
    },
    {
      "cell_type": "code",
      "metadata": {
        "id": "eAExBJlAu2u0"
      },
      "source": [
        "from pyspark.sql import SparkSession"
      ],
      "execution_count": 3,
      "outputs": []
    },
    {
      "cell_type": "code",
      "metadata": {
        "id": "oeH-IULmu2lZ"
      },
      "source": [
        "spark= SparkSession.builder.appName('First spark sql example').getOrCreate()"
      ],
      "execution_count": 16,
      "outputs": []
    },
    {
      "cell_type": "code",
      "metadata": {
        "colab": {
          "base_uri": "https://localhost:8080/"
        },
        "id": "Myn0zJ8Cu2eO",
        "outputId": "b4804368-48e8-4a89-88c0-89599a7fdcf8"
      },
      "source": [
        "spark.sparkContext.getConf().getAll()"
      ],
      "execution_count": 17,
      "outputs": [
        {
          "output_type": "execute_result",
          "data": {
            "text/plain": [
              "[('spark.rdd.compress', 'True'),\n",
              " ('spark.app.id', 'local-1637887965365'),\n",
              " ('spark.serializer.objectStreamReset', '100'),\n",
              " ('spark.driver.host', '15b8af5da677'),\n",
              " ('spark.master', 'local[*]'),\n",
              " ('spark.driver.port', '46267'),\n",
              " ('spark.executor.id', 'driver'),\n",
              " ('spark.app.name', 'First spark sql example'),\n",
              " ('spark.submit.deployMode', 'client'),\n",
              " ('spark.ui.showConsoleProgress', 'true')]"
            ]
          },
          "metadata": {},
          "execution_count": 17
        }
      ]
    },
    {
      "cell_type": "code",
      "metadata": {
        "colab": {
          "base_uri": "https://localhost:8080/"
        },
        "id": "2S2773_Qu2Yq",
        "outputId": "1c9ec839-b59a-4b97-d445-45298c09ea87"
      },
      "source": [
        "sc.getConf().getAll()"
      ],
      "execution_count": 8,
      "outputs": [
        {
          "output_type": "execute_result",
          "data": {
            "text/plain": [
              "[('spark.rdd.compress', 'True'),\n",
              " ('spark.app.id', 'local-1637887965365'),\n",
              " ('spark.serializer.objectStreamReset', '100'),\n",
              " ('spark.driver.host', '15b8af5da677'),\n",
              " ('spark.master', 'local[*]'),\n",
              " ('spark.driver.port', '46267'),\n",
              " ('spark.executor.id', 'driver'),\n",
              " ('spark.app.name', 'First spark sql example'),\n",
              " ('spark.submit.deployMode', 'client'),\n",
              " ('spark.ui.showConsoleProgress', 'true')]"
            ]
          },
          "metadata": {},
          "execution_count": 8
        }
      ]
    },
    {
      "cell_type": "code",
      "metadata": {
        "colab": {
          "base_uri": "https://localhost:8080/",
          "height": 219
        },
        "id": "hgsCnslRzldp",
        "outputId": "1e779304-5b61-4ead-d9dd-2b873e5b312f"
      },
      "source": [
        "spark"
      ],
      "execution_count": 18,
      "outputs": [
        {
          "output_type": "execute_result",
          "data": {
            "text/html": [
              "\n",
              "            <div>\n",
              "                <p><b>SparkSession - in-memory</b></p>\n",
              "                \n",
              "        <div>\n",
              "            <p><b>SparkContext</b></p>\n",
              "\n",
              "            <p><a href=\"http://15b8af5da677:4040\">Spark UI</a></p>\n",
              "\n",
              "            <dl>\n",
              "              <dt>Version</dt>\n",
              "                <dd><code>v2.4.8</code></dd>\n",
              "              <dt>Master</dt>\n",
              "                <dd><code>local[*]</code></dd>\n",
              "              <dt>AppName</dt>\n",
              "                <dd><code>YourTest</code></dd>\n",
              "            </dl>\n",
              "        </div>\n",
              "        \n",
              "            </div>\n",
              "        "
            ],
            "text/plain": [
              "<pyspark.sql.session.SparkSession at 0x7f9995500d10>"
            ]
          },
          "metadata": {},
          "execution_count": 18
        }
      ]
    },
    {
      "cell_type": "code",
      "metadata": {
        "id": "bZ_NauTI0Nr2"
      },
      "source": [
        ""
      ],
      "execution_count": null,
      "outputs": []
    },
    {
      "cell_type": "code",
      "metadata": {
        "id": "kpPQclVw0NlV"
      },
      "source": [
        ""
      ],
      "execution_count": null,
      "outputs": []
    },
    {
      "cell_type": "code",
      "metadata": {
        "id": "hsEn_4Vd0Nfk"
      },
      "source": [
        ""
      ],
      "execution_count": null,
      "outputs": []
    }
  ]
}