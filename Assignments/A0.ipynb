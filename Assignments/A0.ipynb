{
  "nbformat": 4,
  "nbformat_minor": 0,
  "metadata": {
    "kernelspec": {
      "display_name": "Python 3",
      "language": "python",
      "name": "python3"
    },
    "language_info": {
      "codemirror_mode": {
        "name": "ipython",
        "version": 3
      },
      "file_extension": ".py",
      "mimetype": "text/x-python",
      "name": "python",
      "nbconvert_exporter": "python",
      "pygments_lexer": "ipython3",
      "version": "3.7.2"
    },
    "colab": {
      "name": "A0 .ipynb",
      "provenance": [],
      "collapsed_sections": [],
      "toc_visible": true
    }
  },
  "cells": [
    {
      "cell_type": "markdown",
      "metadata": {
        "deletable": false,
        "tags": [
          "instructions"
        ],
        "id": "xZ7H7FmcDw5B"
      },
      "source": [
        "## CS431/631 Data Intensive Distributed Analytics\n",
        "### Fall 2021 - Assignment 0\n",
        "---"
      ]
    },
    {
      "cell_type": "markdown",
      "metadata": {
        "deletable": false,
        "tags": [
          "instructions"
        ],
        "id": "F4K1ZTGrDw5E"
      },
      "source": [
        "**Please edit this (text) cell to provide your name and UW student ID number!**\n",
        "* **Name:** _replace this with your name_\n",
        "* **ID:** _replace this with your UW student ID number_"
      ]
    },
    {
      "cell_type": "markdown",
      "metadata": {
        "id": "pBJ1H1i_ENGE"
      },
      "source": [
        "For this assignment, you will be using Python to do some analysis of the text of Shakespeare's plays.   Run the next block to download the text file (`Shakespeare.txt`) and the Python tokenizer module (`simple_tokenize.py`)."
      ]
    },
    {
      "cell_type": "code",
      "metadata": {
        "id": "rcXDTtuqENqF"
      },
      "source": [
        "!wget -q https://student.cs.uwaterloo.ca/~cs451/content/cs431/Shakespeare.txt\n",
        "!wget -q https://student.cs.uwaterloo.ca/~cs451/content/cs431/simple_tokenize.py"
      ],
      "execution_count": 1,
      "outputs": []
    },
    {
      "cell_type": "markdown",
      "metadata": {
        "deletable": false,
        "tags": [
          "instructions"
        ],
        "id": "yDOanRXeDw5F"
      },
      "source": [
        "---\n",
        "\n",
        "\n",
        "Let's first try running some simple Python code to make sure that everything is set up properly and ready to go.   The code in the next box will open `Shakespeare.txt`, read the file line by line, and tokenize each line that it reads in.    Try running the code by selecting the box and typing `Shift-Return`, i.e., hit the carriage return key while you are holding the shift key.   It may take a few seconds to run."
      ]
    },
    {
      "cell_type": "code",
      "metadata": {
        "collapsed": true,
        "deletable": false,
        "tags": [
          "instructions"
        ],
        "colab": {
          "base_uri": "https://localhost:8080/"
        },
        "id": "YQUhrqdADw5G",
        "outputId": "0268de7b-d8b4-4eca-8efa-d5b99c9dd66d"
      },
      "source": [
        "# this imports the SimpleTokenize function from the simple_tokenize.py file that you uploaded\n",
        "from simple_tokenize import simple_tokenize\n",
        "\n",
        "# Now, let's tokenize Shakespeare's plays\n",
        "filename = 'Shakespeare.txt'\n",
        "with open(filename) as f:\n",
        "    for line in f:\n",
        "        # tokenize, one line at a time\n",
        "        t = simple_tokenize(line)\n",
        "t"
      ],
      "execution_count": 23,
      "outputs": [
        {
          "output_type": "execute_result",
          "data": {
            "text/plain": [
              "['the', 'end']"
            ]
          },
          "metadata": {},
          "execution_count": 23
        }
      ]
    },
    {
      "cell_type": "markdown",
      "metadata": {
        "deletable": false,
        "tags": [
          "instructions"
        ],
        "id": "5Hf7FVbiDw5H"
      },
      "source": [
        "---\n",
        "### Important\n",
        "\n",
        "The questions that follow ask you to implement functions whose prototypes are given to you. **Do _not_ change the prototypes of the functions. Do _not_ write code outside of the functions.** In particular, do not use the same cell as the function declaration invoke the function.\n",
        "\n",
        "You may use specific cells, identified by `# Your tests here`, for test purposes. Code in these cells will *not* be executed when marking your assignment.\n",
        "\n",
        "---"
      ]
    },
    {
      "cell_type": "markdown",
      "metadata": {
        "deletable": false,
        "tags": [
          "instructions"
        ],
        "id": "23vjzVHSDw5I"
      },
      "source": [
        "#### Question 1  (2/10 marks):\n",
        "After the code has finished running, the notebook will display the resulting output immediately after cell.   In this case, you should see the output `['the', 'end']`. In the next cell, briefly explain why the code produced this output.\n"
      ]
    },
    {
      "cell_type": "markdown",
      "metadata": {
        "deletable": false,
        "tags": [
          "answer"
        ],
        "id": "eASRhGexDw5I"
      },
      "source": [
        "#### Your answer to Question 1:\n",
        "The code takes each line, tokenizes it. variable 't' is printed after the for loop. so the variable has only the tokenized words of last sentence.\n",
        "\n",
        "\n",
        "\n"
      ]
    },
    {
      "cell_type": "markdown",
      "metadata": {
        "deletable": false,
        "tags": [
          "instructions"
        ],
        "id": "XyqvKBp6Dw5J"
      },
      "source": [
        "Now it is time for you to write some code.   Let's find the most frequently appearing tokens in Shakespeare's work.\n",
        "\n",
        "#### Question 2 (4/10 marks):\n",
        "In the next box, implement the function `top_50_tokens` using Python code that return the list of the 50 most frequently appearing tokens and their frequency, i.e., the number of times that each occurs.   Please use the `simple_tokenize` function, without modification, to tokenize the text, so that everyone is working with the same definition of what a token is.   If you wish, feel free to start with the Python code in the box above - just copy it from there and paste it below."
      ]
    },
    {
      "cell_type": "code",
      "metadata": {
        "deletable": false,
        "tags": [
          "code"
        ],
        "id": "CTdU0CO3Dw5K"
      },
      "source": [
        "from simple_tokenize import simple_tokenize\n",
        "from collections import Counter\n",
        "words_dict={}\n",
        "words=[]\n",
        "def top_50_tokens(filename='Shakespeare.txt'):\n",
        "  top_50_tokens_list = []\n",
        "  # In this function, write Python code to find the 50 most frequent tokens in Shakespeare.txt\n",
        "  # Make sure that your code is commented\n",
        "  with open(filename) as f:\n",
        "    for line in f:\n",
        "      t = simple_tokenize(line)\n",
        "      for word in t:\n",
        "        words.append(word)\n",
        "      \n",
        "    for word in words:\n",
        "      if word not in words_dict:\n",
        "        words_dict[word] = 0\n",
        "      words_dict[word] += 1\n",
        "    #print(words_dict)\n",
        "    words_dict.items()\n",
        "    sorted_dict = sorted(words_dict.items(), key = lambda kv: kv[1],reverse=True)\n",
        "    top_50_tokens_list=sorted_dict[:10]\n",
        "  return top_50_tokens_list\n",
        "\n"
      ],
      "execution_count": 38,
      "outputs": []
    },
    {
      "cell_type": "code",
      "metadata": {
        "id": "AZskr4-00Ooa",
        "outputId": "c113b82f-ffe5-4881-c166-0cf499e18e8e",
        "colab": {
          "base_uri": "https://localhost:8080/"
        }
      },
      "source": [
        "top_50_tokens()"
      ],
      "execution_count": 39,
      "outputs": [
        {
          "output_type": "execute_result",
          "data": {
            "text/plain": [
              "[('the', 27378),\n",
              " ('and', 26082),\n",
              " ('i', 20717),\n",
              " ('to', 19661),\n",
              " ('of', 17473),\n",
              " ('a', 14723),\n",
              " ('you', 13630),\n",
              " ('my', 12490),\n",
              " ('in', 10996),\n",
              " ('that', 10915)]"
            ]
          },
          "metadata": {},
          "execution_count": 39
        }
      ]
    },
    {
      "cell_type": "code",
      "metadata": {
        "deletable": false,
        "tags": [
          "tests"
        ],
        "id": "G0tWVMiTDw5K",
        "outputId": "d06155ce-133b-4fd8-bf34-706314417ee4",
        "colab": {
          "base_uri": "https://localhost:8080/"
        }
      },
      "source": [
        "# Your tests here\n",
        "#Implementation 2:\n",
        "word_counter = Counter(words)\n",
        "word_counter.most_common(10)"
      ],
      "execution_count": 37,
      "outputs": [
        {
          "output_type": "execute_result",
          "data": {
            "text/plain": [
              "[('the', 27378),\n",
              " ('and', 26082),\n",
              " ('i', 20717),\n",
              " ('to', 19661),\n",
              " ('of', 17473),\n",
              " ('a', 14723),\n",
              " ('you', 13630),\n",
              " ('my', 12490),\n",
              " ('in', 10996),\n",
              " ('that', 10915)]"
            ]
          },
          "metadata": {},
          "execution_count": 37
        }
      ]
    },
    {
      "cell_type": "markdown",
      "metadata": {
        "deletable": false,
        "tags": [
          "instructions"
        ],
        "id": "jFFC9DWxDw5L"
      },
      "source": [
        "Be sure to test the code that you have written by running it.   When you submit your notebook to us, we will run your code when we mark you assignment.   As a sanity test on you output, our reference implementation finds that the most frequent word is \"the\", which occurs 27378 times.\n",
        "\n",
        "---\n",
        "\n",
        "Once you have found the 50 most frequent tokens, let's move on to something slightly more complicated.\n",
        "\n",
        "#### Question 3 (4/10 marks):\n",
        "\n",
        "Instead of the most frequent tokens appearing in Shakespeare's works, suppose that we want a list of words that appear after the word \"perfect\", on the same line, in Shakespeare's text. \n",
        "(Note: the \"words\" we are interested in for this question are tokens, as returned by simple_tokenize.)\n",
        "\n",
        "For example, *All's Well That Ends Well* includes the line\n",
        ">  Ere I can perfect mine intents, to kneel.\n",
        "\n",
        "so \"mine\" should be part of the output, since it follows \"perfect\" on this line.  To keep the output from getting too long, include only words that appear after \"perfect\" on more than one line.\n",
        "\n",
        "In the next box, implement the function `perfect_x` that returns a dictionary of key/value pairs, where the keys are the words that follow perfect on more than one line, and the values the number of lines in which the pattern is observed. For instance, if 'x' follows 'perfect' on 3 different lines, the entry in the dictionary will be ('x':3) As a sanity check on your output, our reference implementation finds 5 such words."
      ]
    },
    {
      "cell_type": "code",
      "metadata": {
        "deletable": false,
        "tags": [
          "code"
        ],
        "id": "xe-JSeFYDw5M"
      },
      "source": [
        "from simple_tokenize import simple_tokenize\n",
        "\n",
        "def perfect_x(filename = 'Shakespeare.txt'):\n",
        "    perfect_x_dict = {}\n",
        "    whole_x_dict={}\n",
        "    word_index=0\n",
        "    # In this function, write Python code to find tokens that follow \"perfect\" in Shakespeare.txt \n",
        "    # Make sure that your code is commented\n",
        "    with open(filename) as f:\n",
        "      for line in f:\n",
        "        t = simple_tokenize(line)\n",
        "        if 'perfect' in t:\n",
        "          word_index=t.index('perfect')\n",
        "          if word_index+1==len(t):\n",
        "            pass\n",
        "          else:\n",
        "            out_word=t[word_index+1]\n",
        "            if out_word not in whole_x_dict:\n",
        "              whole_x_dict[out_word] = 0\n",
        "            whole_x_dict[out_word] += 1\n",
        "      #print(whole_x_dict.items())\n",
        "      sorted_x_dict = sorted(whole_x_dict.items(), key = lambda kv: kv[1],reverse=True)\n",
        "      x_dict=dict(sorted_x_dict)\n",
        "      for (k,v) in x_dict.items():\n",
        "        if v>1:perfect_x_dict[k]=v\n",
        "      return perfect_x_dict"
      ],
      "execution_count": 57,
      "outputs": []
    },
    {
      "cell_type": "code",
      "metadata": {
        "id": "DKD5k6Ie3LhV",
        "outputId": "3de97ae3-d4dd-4cd9-cb74-02e0dddd732a",
        "colab": {
          "base_uri": "https://localhost:8080/"
        }
      },
      "source": [
        "perfect_x()"
      ],
      "execution_count": 58,
      "outputs": [
        {
          "output_type": "execute_result",
          "data": {
            "text/plain": [
              "{'honour': 2, 'in': 4, 'love': 4, 'that': 2, 'yellow': 2}"
            ]
          },
          "metadata": {},
          "execution_count": 58
        }
      ]
    },
    {
      "cell_type": "markdown",
      "metadata": {
        "deletable": false,
        "tags": [
          "instructions"
        ],
        "id": "Q17qkDyRDw5M"
      },
      "source": [
        " When you are finished and ready to submit your assignment, download your .ipynb notebook file from Colab (File>Download .ipynb) to your machine, and then follow the submission instructions in the assignment."
      ]
    }
  ]
}